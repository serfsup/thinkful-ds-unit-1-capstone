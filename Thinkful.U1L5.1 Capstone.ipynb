{
 "cells": [
  {
   "cell_type": "markdown",
   "metadata": {},
   "source": [
    "Dan McHenry\n",
    "Thinkful Unit 1 Capstone\n",
    "1987 National Indonesia Contraceptive Prevalence Survey\n",
    "\n",
    "\n",
    "## Problem\n",
    "This dataset categorizes married Indonesian women into one of three categories: not using contraception, using short-term contraception, and using long-term contraception.  One of the conclusions that I came to was that women who do not use contraception tend to have fewer children than women who use contraception.  This conclusion is counterintuitive, which leads me to the major problem with this study: there is an important factor that has been left out when evaluating the effectiveness of contraception, and that is sexual activity.  A woman who uses short-term contraception and is only having sex once every four months is more likely to become pregnant than a woman who is not using contraception and is not having sex (for whatever reason: marital issues, menopause, impotence, etc.).  A true correlation cannot be confirmed unless it is compared against the frequency of sexual activity.\n",
    "\n",
    "## Potential Solution\n",
    "I would hypothesize that, although there may appear to be a correlation between women who do not use contraception having fewer children, this is a false conclusion.  I believe that if analyzed regarding the frequency of sexual activity, a correlation could be made between the frequency of sexual activity and pregnancy.\n",
    "\n",
    "## Methods\n",
    "Since this study was done over two decades ago, it would seem almost impossible to get new data that would be relevant to the study with regards to the frequency of sexual activity (in theory, one could try to find the women who took part in the study and ask them to estimate the frequency of their sexual activity, but the results would not be very accurate).  It would seem that the study would need to be redone using similar metrics, but also including a metric documenting when the women are having sex.  We would then be able to come up with new categories, for example: women who have sex less than three times per week, less than three times per month, or less than three times per year.  \n",
    "\n",
    "Once these new columns are added to the dataframe, evaluation can take place regarding correlations among the women who have not used contraception but also have no children.  If this subgroup has indications that they are less sexually active than the other groups, then one could argue that sexual activity is a contributing factor to the results.  At this point, I would move on to A/B testing.\n",
    "\n",
    "In looking at the setup for the A/B test, I would take my sample group so that it is similar to the population of the original study.  I would then divide the sample group in half so that each half is similar to the other.  At this point I would instruct each group to keep a record of the frequency of their sexual activity.  The control group would not be given any instructions as to the frequency, only to record when activity occurs.  The treatment group would be instructed to be sexually active at a greater frequency, say at least three times per week.  This way we can compare the treatment with the control to determine cause.\n",
    "\n",
    "Assuming that all other factors are equal between the two groups (the number of couples who are not using contraception, for example), I would hypothesize that the treatment group will result in a greater number of pregnancies than the control group.  \n",
    "\n",
    "Lastly, upon finding evidence to support my hypothesis, I would then conduct a T-test to verify causation.  If my t-test shows with 95% certainty that the data supports the hypothesis, then my conclusion that women who have greater levels of sexual activity are more prone to becoming pregnant would be confirmed.\n"
   ]
  }
 ],
 "metadata": {
  "kernelspec": {
   "display_name": "Python 3",
   "language": "python",
   "name": "python3"
  },
  "language_info": {
   "codemirror_mode": {
    "name": "ipython",
    "version": 3
   },
   "file_extension": ".py",
   "mimetype": "text/x-python",
   "name": "python",
   "nbconvert_exporter": "python",
   "pygments_lexer": "ipython3",
   "version": "3.6.1"
  }
 },
 "nbformat": 4,
 "nbformat_minor": 2
}
